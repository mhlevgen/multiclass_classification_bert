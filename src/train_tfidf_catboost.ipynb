{
 "cells": [
  {
   "cell_type": "code",
   "execution_count": 1,
   "metadata": {
    "tags": []
   },
   "outputs": [],
   "source": [
    "%load_ext autoreload\n",
    "%autoreload 2"
   ]
  },
  {
   "cell_type": "code",
   "execution_count": 2,
   "metadata": {},
   "outputs": [],
   "source": [
    "import pandas as pd\n",
    "from catboost import CatBoostClassifier, Pool\n",
    "from sklearn.feature_extraction.text import TfidfVectorizer\n",
    "from sklearn.model_selection import train_test_split\n",
    "from sklearn.preprocessing import OneHotEncoder\n",
    "import numpy as np\n",
    "import pickle\n",
    "\n",
    "from metrics import confusion_matrix_plot, calculate_recall, calculate_roc_auc, calculate_precision\n",
    "from preprocessing import process_data"
   ]
  },
  {
   "cell_type": "code",
   "execution_count": 3,
   "metadata": {
    "collapsed": false,
    "jupyter": {
     "outputs_hidden": false
    },
    "pycharm": {
     "name": "#%%\n"
    }
   },
   "outputs": [],
   "source": [
    "data = pd.read_csv('data/testset_C.csv', sep=';')\n",
    "data = process_data(data)\n",
    "\n",
    "train_data, test_data = train_test_split(data, stratify=data['productgroup'], test_size=0.2, random_state=1)"
   ]
  },
  {
   "cell_type": "code",
   "execution_count": 4,
   "metadata": {
    "collapsed": false,
    "jupyter": {
     "outputs_hidden": false
    },
    "pycharm": {
     "name": "#%%\n"
    }
   },
   "outputs": [],
   "source": [
    "tfidf = TfidfVectorizer(analyzer='word', ngram_range=(1, 2))\n",
    "tfidf.fit(train_data['concat_text'])\n",
    "\n",
    "train_features = tfidf.transform(train_data['concat_text'])\n",
    "test_features = tfidf.transform(test_data['concat_text'])"
   ]
  },
  {
   "cell_type": "code",
   "execution_count": 5,
   "metadata": {
    "collapsed": false,
    "jupyter": {
     "outputs_hidden": false
    },
    "pycharm": {
     "name": "#%%\n"
    }
   },
   "outputs": [],
   "source": [
    "enc = OneHotEncoder(sparse=False)\n",
    "train_y = enc.fit_transform(train_data[['productgroup']])\n",
    "test_y = enc.transform(test_data[['productgroup']])"
   ]
  },
  {
   "cell_type": "code",
   "execution_count": 8,
   "metadata": {
    "collapsed": false,
    "jupyter": {
     "outputs_hidden": false
    },
    "pycharm": {
     "name": "#%%\n"
    }
   },
   "outputs": [],
   "source": [
    "train_pool = Pool(train_features, label=np.argmax(train_y, axis=1))\n",
    "test_pool = Pool(test_features, label=np.argmax(test_y, axis=1))"
   ]
  },
  {
   "cell_type": "code",
   "execution_count": 9,
   "metadata": {
    "collapsed": false,
    "jupyter": {
     "outputs_hidden": false
    },
    "pycharm": {
     "name": "#%%\n"
    }
   },
   "outputs": [
    {
     "name": "stdout",
     "output_type": "stream",
     "text": [
      "0:\tlearn: 0.8384375\ttest: 0.8431250\tbest: 0.8431250 (0)\ttotal: 1.08s\tremaining: 3m 34s\n",
      "50:\tlearn: 0.9782812\ttest: 0.9812500\tbest: 0.9812500 (50)\ttotal: 51.4s\tremaining: 2m 30s\n",
      "100:\tlearn: 0.9914063\ttest: 0.9918750\tbest: 0.9918750 (97)\ttotal: 1m 41s\tremaining: 1m 39s\n",
      "Stopped by overfitting detector  (10 iterations wait)\n",
      "\n",
      "bestTest = 0.993125\n",
      "bestIteration = 108\n",
      "\n",
      "Shrink model to first 109 iterations.\n"
     ]
    },
    {
     "data": {
      "text/plain": [
       "<catboost.core.CatBoostClassifier at 0x7f0e05a044f0>"
      ]
     },
     "execution_count": 9,
     "metadata": {},
     "output_type": "execute_result"
    }
   ],
   "source": [
    "clf = CatBoostClassifier(\n",
    "    loss_function='MultiClass',\n",
    "    eval_metric='Accuracy',\n",
    "    iterations=200,\n",
    "    class_names=list(range(len(enc.categories_[0]))),\n",
    "    learning_rate=0.21\n",
    ")\n",
    "clf.fit(train_pool, eval_set=test_pool, metric_period=1, plot=False, verbose=50, early_stopping_rounds=10)"
   ]
  },
  {
   "cell_type": "code",
   "execution_count": 10,
   "metadata": {
    "collapsed": false,
    "jupyter": {
     "outputs_hidden": false
    },
    "pycharm": {
     "name": "#%%\n"
    }
   },
   "outputs": [
    {
     "data": {
      "image/png": "[encoded data removed]",
      "text/plain": [
       "<Figure size 432x288 with 1 Axes>"
      ]
     },
     "metadata": {
      "needs_background": "light"
     },
     "output_type": "display_data"
    }
   ],
   "source": [
    "preds_bool = clf.predict(test_pool)\n",
    "preds = clf.predict_proba(test_pool)\n",
    "\n",
    "confusion_matrix_plot(test_y, preds, enc.categories_[0])"
   ]
  },
  {
   "cell_type": "code",
   "execution_count": 22,
   "metadata": {
    "collapsed": false,
    "jupyter": {
     "outputs_hidden": false
    },
    "pycharm": {
     "name": "#%%\n"
    }
   },
   "outputs": [
    {
     "name": "stdout",
     "output_type": "stream",
     "text": [
      "\n",
      "    recall: 0.9769\n",
      "    \n",
      "\n",
      "    precision: 0.9994\n",
      "    \n",
      "\n",
      "    roc auc macro: 0.9999,\n",
      "    roc auc micro: 0.9998\n",
      "    \n"
     ]
    }
   ],
   "source": [
    "calculate_recall(test_y, np.round(preds))\n",
    "calculate_precision(test_y, np.round(preds))\n",
    "calculate_roc_auc(test_y, preds)"
   ]
  },
  {
   "cell_type": "code",
   "execution_count": 23,
   "metadata": {},
   "outputs": [
    {
     "name": "stdout",
     "output_type": "stream",
     "text": [
      "transcend 4gb jetflash 700 4gb jetflash 700 memory\n",
      "true_cat: USB MEMORY predicted: WASHINGMACHINES\n",
      "\n",
      "verbatim store n go swivel usbdrive 16gbred gr h100 general hardware\n",
      "true_cat: USB MEMORY predicted: WASHINGMACHINES\n",
      "\n",
      "polar polar pulsuhr v800 hr  black  90060770 sports 29000multisports 29170heartratewatches sportscomputers gpsde\n",
      "true_cat: WASHINGMACHINES predicted: BICYCLES\n",
      "\n",
      "None sandisk cruzer ultra flair 128gb 3 0 1\n",
      "true_cat: USB MEMORY predicted: WASHINGMACHINES\n",
      "\n",
      "None 85880 4gb minimo  4gb minimo 4005930\n",
      "true_cat: USB MEMORY predicted: WASHINGMACHINES\n",
      "\n",
      "bergamont bergamont kiez flow petrol l 1 1 4\n",
      "true_cat: BICYCLES predicted: WASHINGMACHINES\n",
      "\n",
      "sandisk sandisk connect200gb video dvd tv   mediaplayer   stream client   streaming clients\n",
      "true_cat: USB MEMORY predicted: WASHINGMACHINES\n",
      "\n",
      "None acuvue oasys 14 tageslinsen\n",
      "true_cat: CONTACT LENSES predicted: WASHINGMACHINES\n",
      "\n",
      "None kingston data traveler se9 mit 109\n",
      "true_cat: USB MEMORY predicted: WASHINGMACHINES\n",
      "\n",
      "sandisk sandisk connect wireless stick 200gb component   memory\n",
      "true_cat: USB MEMORY predicted: WASHINGMACHINES\n",
      "\n",
      "None jugendfahrrad maedchen 2 0 rosa wei 664w0200\n",
      "true_cat: BICYCLES predicted: WASHINGMACHINES\n",
      "\n"
     ]
    }
   ],
   "source": [
    "predicted_cat = np.argmax(preds, axis=1)\n",
    "true_cat = np.argmax(test_y, axis=1)\n",
    "\n",
    "wrong_indexes = np.where(predicted_cat != true_cat)[0]\n",
    "ind_to_category = {ind: cat for ind, cat in enumerate(enc.categories_[0])}\n",
    "\n",
    "for i in wrong_indexes:\n",
    "    print(test_data['concat_text'].iloc[i])\n",
    "    print(f'true_cat: {ind_to_category[true_cat[i]]}', f'predicted: {ind_to_category[predicted_cat[i]]}')\n",
    "    print()"
   ]
  },
  {
   "cell_type": "code",
   "execution_count": 17,
   "metadata": {},
   "outputs": [],
   "source": [
    "with open('models/tf_idf.pkl', 'wb') as f:\n",
    "    pickle.dump(tfidf, f)\n",
    "    \n",
    "with open('models/clf.pkl', 'wb') as f:\n",
    "    pickle.dump(clf, f)\n",
    "    \n",
    "with open('models/ind_to_category.pkl', 'wb') as f:\n",
    "    pickle.dump(ind_to_category, f)"
   ]
  },
  {
   "cell_type": "code",
   "execution_count": null,
   "metadata": {},
   "outputs": [],
   "source": []
  }
 ],
 "metadata": {
  "kernelspec": {
   "display_name": "Python 3 (ipykernel)",
   "language": "python",
   "name": "python3"
  },
  "language_info": {
   "codemirror_mode": {
    "name": "ipython",
    "version": 3
   },
   "file_extension": ".py",
   "mimetype": "text/x-python",
   "name": "python",
   "nbconvert_exporter": "python",
   "pygments_lexer": "ipython3",
   "version": "3.9.10"
  }
 },
 "nbformat": 4,
 "nbformat_minor": 4
}